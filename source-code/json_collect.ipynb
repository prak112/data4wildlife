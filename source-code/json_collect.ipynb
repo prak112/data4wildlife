{
 "cells": [
  {
   "cell_type": "code",
   "execution_count": null,
   "metadata": {},
   "outputs": [],
   "source": [
    "# install library\n",
    "!pip install requests --quiet\n",
    "\n",
    "# Import libraries\n",
    "import requests\n",
    "import json\n",
    "import urllib.request\n",
    "import os\n",
    "\n",
    "loris_hashtags = ['slowloris', 'slowlorisforsale', '„Çπ„É≠„Éº„É≠„É™„Çπ','‡∏ô‡∏≤‡∏á‡∏≠‡∏≤‡∏¢']\n",
    "headers = {'x-rapidapi-host': \"instagram85.p.rapidapi.com\", 'x-rapidapi-key': \"API-KEY\"}\n",
    "\n",
    "for hashtag in loris_hashtags:\n",
    "    url = f\"https://instagram85.p.rapidapi.com/tag/{hashtag}/feed\"\n",
    "    data = requests.request(\"GET\", url, headers=headers)\n",
    "    json_file = data.json()\n",
    "    #print(json_file['data'])\n",
    "    \n",
    "    if json_file is None:\n",
    "        print('empty json')\n",
    "        continue    \n",
    "\n",
    "    else:\n",
    "        # Directory\n",
    "        for hashtag in loris_hashtags:\n",
    "            directory = hashtag\n",
    "        \n",
    "            try:\n",
    "                # Parent Directory path\n",
    "                parent_dir = \"D:/GitHub_Projects/data4wildlife/\"\n",
    "            \n",
    "                # Path\n",
    "                path = os.path.join(parent_dir, directory)\n",
    "            \n",
    "                # Create the directory for every iteration\n",
    "                os.mkdir(path)\n",
    "                print(\"Directory '% s' created\" % directory)\n",
    "\n",
    "                with open(f\"D:/GitHub_Projects/data4wildlife/{hashtag}/page01.json\", 'w') as f:\n",
    "                        f.write(json.dumps(json_file))\n",
    "\n",
    "                for i in json_file['data']:\n",
    "                    image_url = i['images']['thumbnail']\n",
    "                    urllib.request.urlretrieve(image_url, f\"D:/GitHub_Projects/data4wildlife/{hashtag}/{i['id']}.jpg\")\n",
    "                \n",
    "            except FileExistsError:\n",
    "                print('Directory exists.')\n",
    "\n",
    "                with open(f\"D:/GitHub_Projects/data4wildlife/{hashtag}/page01.json\", 'w') as f:\n",
    "                    f.write(json.dumps(json_file))\n",
    "            \n",
    "                for i in json_file['data']:\n",
    "                    image_url = i['images']['thumbnail']\n",
    "                    urllib.request.urlretrieve(image_url, f\"D:/GitHub_Projects/data4wildlife/{hashtag}/{i['id']}.jpg\")"
   ]
  },
  {
   "cell_type": "markdown",
   "metadata": {},
   "source": [
    "## Trial Code-- Below"
   ]
  },
  {
   "cell_type": "code",
   "execution_count": 64,
   "metadata": {},
   "outputs": [
    {
     "name": "stdout",
     "output_type": "stream",
     "text": [
      "Directory 'christmas' created\n"
     ]
    }
   ],
   "source": [
    "        # Directory\n",
    "        for hashtag in loris_hashtags:\n",
    "            directory = hashtag\n",
    "        \n",
    "            # Parent Directory path\n",
    "            parent_dir = \"D:/GitHub_Projects/data4wildlife/\"\n",
    "        \n",
    "            # Path\n",
    "            path = os.path.join(parent_dir, directory)\n",
    "        \n",
    "            # Create the directory for every iteration\n",
    "            os.mkdir(path)\n",
    "            print(\"Directory '% s' created\" % directory)\n",
    "\n",
    "for i in json_file['data']:\n",
    "    image_url = i['images']['thumbnail']\n",
    "    caption = i['caption']\n",
    "#    urllib.request.urlretrieve(image_url, f\"D:/GitHub_Projects/data4wildlife/{hashtag}/{i['id']}.jpg\")\n",
    "    \n",
    "#   later --> next_page_id = json_file['meta']['next_page']\n",
    "\n",
    "for i in json_file['data']\n",
    "    image_url = i['images']['thumbnail']\n",
    "    caption = i['caption']"
   ]
  }
 ],
 "metadata": {
  "interpreter": {
   "hash": "ae0e8424f32476ffa624057aecfd14b0bd8dad6eb0892866c02d05920cce1cf9"
  },
  "kernelspec": {
   "display_name": "Python 3.8.10 64-bit (windows store)",
   "language": "python",
   "name": "python3"
  },
  "language_info": {
   "codemirror_mode": {
    "name": "ipython",
    "version": 3
   },
   "file_extension": ".py",
   "mimetype": "text/x-python",
   "name": "python",
   "nbconvert_exporter": "python",
   "pygments_lexer": "ipython3",
   "version": "3.8.10"
  },
  "orig_nbformat": 4
 },
 "nbformat": 4,
 "nbformat_minor": 2
}
